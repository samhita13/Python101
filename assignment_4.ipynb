{
  "nbformat": 4,
  "nbformat_minor": 0,
  "metadata": {
    "colab": {
      "provenance": [],
      "collapsed_sections": [],
      "authorship_tag": "ABX9TyOSz3vDDDJ2tKWjWrPSMMR6",
      "include_colab_link": true
    },
    "kernelspec": {
      "name": "python3",
      "display_name": "Python 3"
    },
    "language_info": {
      "name": "python"
    }
  },
  "cells": [
    {
      "cell_type": "markdown",
      "metadata": {
        "id": "view-in-github",
        "colab_type": "text"
      },
      "source": [
        "<a href=\"https://colab.research.google.com/github/samhita13/Python101/blob/main/assignment_4.ipynb\" target=\"_parent\"><img src=\"https://colab.research.google.com/assets/colab-badge.svg\" alt=\"Open In Colab\"/></a>"
      ]
    },
    {
      "cell_type": "code",
      "execution_count": 28,
      "metadata": {
        "id": "HRF1eXnqhPlI",
        "colab": {
          "base_uri": "https://localhost:8080/"
        },
        "outputId": "e5d7ce63-01de-4423-af1a-3b6eb0595636"
      },
      "outputs": [
        {
          "output_type": "stream",
          "name": "stdout",
          "text": [
            "Budget Analysis\n",
            "Enter the amount you have bugeted $ for a month.1300\n",
            "Enter Expenses by type 1.Clothing 2.Food 3.Entertainment 4.Rent 5.Transport \n",
            "Budget number 1  100\n",
            "Budget number 2  400\n",
            "Budget number 3  100\n",
            "Budget number 4  500\n",
            "Budget number 5  200\n",
            "You have reacheched your budgeted goal!\n"
          ]
        }
      ],
      "source": [
        "print(\"Budget Analysis\")\n",
        "BudgetGoal = int(input(\"Enter the amount you have bugeted $ for a month.\"))\n",
        "print(\"Enter Expenses by type 1.Clothing 2.Food 3.Entertainment 4.Rent 5.Transport \")\n",
        "numberofbudgets=1\n",
        "totalexpense=0\n",
        "while(numberofbudgets<=5):\n",
        " EXPENSE =int(input(\"Budget number \" + str(numberofbudgets) + \"  \"))\n",
        " totalexpense=totalexpense+EXPENSE\n",
        " numberofbudgets=numberofbudgets+1\n",
        "if (totalexpense<BudgetGoal):\n",
        "  underexpense=BudgetGoal-totalexpense\n",
        "  print(\"you are under budget by \" + str(underexpense))\n",
        "elif (totalexpense>BudgetGoal):\n",
        "  overexpense= totalexpense-BudgetGoal\n",
        "  print(\"you are over budget by \" + str(overexpense)+ \" $\")\n",
        "else:\n",
        "  print(\"You have reacheched your budgeted goal!\")\n"
      ]
    },
    {
      "cell_type": "markdown",
      "source": [
        "Budget Analysis\n",
        "Write a program that asks the user to enter the amount that he or she has budgeted for a month.\n",
        "A loop should then prompt the user to enter each of his or her expenses for the month and keep\n",
        "a running total. When the loop finishes, the program should display the amount that the user is\n",
        "over or under budget"
      ],
      "metadata": {
        "id": "eqh_YWvBhQxN"
      }
    },
    {
      "cell_type": "code",
      "source": [
        "print(\"Distance Traveled\")\n",
        "hours = 1\n",
        "speedmph=int(input(\"What was the speed of your vehicle in miles per hour?\"))\n",
        "totaltime=int(input(\"How many hours have you traveled?\"))\n",
        "##distance=hours*totaltime\n",
        "while (hours<=totaltime):\n",
        " distance=speedmph*hours\n",
        " print(str(hours)+\" hours is \" + str(distance))\n",
        " hours=hours+1\n"
      ],
      "metadata": {
        "id": "Is8H9E-8hUjM",
        "colab": {
          "base_uri": "https://localhost:8080/"
        },
        "outputId": "9bf51a24-d08e-49b3-ce01-1c6f1f95782f"
      },
      "execution_count": 15,
      "outputs": [
        {
          "output_type": "stream",
          "name": "stdout",
          "text": [
            "Distance Traveled\n",
            "What was the speed of your vehicle in miles per hour?40\n",
            "How many hours have you traveled?3\n",
            "1 hours is 40\n",
            "2 hours is 80\n",
            "3 hours is 120\n"
          ]
        }
      ]
    },
    {
      "cell_type": "markdown",
      "source": [
        "4. Distance Traveled\n",
        "The distance a vehicle travels can be calculated as follows:\n",
        "distan⁡ce = speed × time\n",
        "For example, if a train travels 40 miles per hour for three hours, the distance traveled is 120\n",
        "miles. Write a program that asks the user for the speed of a vehicle (in miles per hour) and the\n",
        "number of hours it has traveled. It should then use a loop to display the distance the vehicle has\n",
        "traveled for each hour of that time period. Here is an example of the desired output:\n",
        "What is the speed of the vehicle in mph? 40\n",
        "How many hours has it traveled? 3\n",
        "Hour Distance Traveled\n",
        "1 40\n",
        "2 80\n",
        "3 120\n"
      ],
      "metadata": {
        "id": "NCL611G-hW32"
      }
    },
    {
      "cell_type": "code",
      "source": [
        "print(\"Celsius to Farenheight Table\")\n",
        "celsius=0\n",
        "print(\"Celsius  Farenheight\")\n",
        "while (celsius<=20):\n",
        "  farenheight=(9/5*celsius)+32\n",
        "  print(\" \"+str(celsius)+\"        \"+ str(farenheight))\n",
        "  celsius = celsius+1"
      ],
      "metadata": {
        "id": "HUiuCc4_haoj",
        "colab": {
          "base_uri": "https://localhost:8080/"
        },
        "outputId": "c1ff4592-bd49-41b7-ac22-922de34af4e5"
      },
      "execution_count": 8,
      "outputs": [
        {
          "output_type": "stream",
          "name": "stdout",
          "text": [
            "Celsius to Farenheight Table\n",
            "Celsius  Farenheight\n",
            " 0        32.0\n",
            " 1        33.8\n",
            " 2        35.6\n",
            " 3        37.4\n",
            " 4        39.2\n",
            " 5        41.0\n",
            " 6        42.8\n",
            " 7        44.6\n",
            " 8        46.4\n",
            " 9        48.2\n",
            " 10        50.0\n",
            " 11        51.8\n",
            " 12        53.6\n",
            " 13        55.400000000000006\n",
            " 14        57.2\n",
            " 15        59.0\n",
            " 16        60.8\n",
            " 17        62.6\n",
            " 18        64.4\n",
            " 19        66.2\n",
            " 20        68.0\n"
          ]
        }
      ]
    },
    {
      "cell_type": "markdown",
      "source": [
        "6. Celsius to Fahrenheit Table\n",
        "Write a program that displays a table of the Celsius temperatures 0 through 20 and their\n",
        "Fahrenheit equivalents. The formula for converting a temperature from Celsius to Fahrenheit is\n",
        "F=95C+32\n",
        "where F is the Fahrenheit temperature, and C is the Celsius temperature. Your program must\n",
        "use a loop to display the table."
      ],
      "metadata": {
        "id": "ePMMc_VJhbGV"
      }
    }
  ]
}