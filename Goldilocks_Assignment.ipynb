{
  "nbformat": 4,
  "nbformat_minor": 0,
  "metadata": {
    "colab": {
      "provenance": [],
      "authorship_tag": "ABX9TyOz6Xug5m9AQ3IH8vXV5SoN",
      "include_colab_link": true
    },
    "kernelspec": {
      "name": "python3",
      "display_name": "Python 3"
    },
    "language_info": {
      "name": "python"
    }
  },
  "cells": [
    {
      "cell_type": "markdown",
      "metadata": {
        "id": "view-in-github",
        "colab_type": "text"
      },
      "source": [
        "<a href=\"https://colab.research.google.com/github/samhita13/Python101/blob/main/Goldilocks_Assignment.ipynb\" target=\"_parent\"><img src=\"https://colab.research.google.com/assets/colab-badge.svg\" alt=\"Open In Colab\"/></a>"
      ]
    },
    {
      "cell_type": "code",
      "execution_count": 7,
      "metadata": {
        "colab": {
          "base_uri": "https://localhost:8080/"
        },
        "id": "LpR4Nhoiytx7",
        "outputId": "ae405bc5-eed1-41a3-ca4d-c07b1ea944b4"
      },
      "outputs": [
        {
          "output_type": "stream",
          "name": "stdout",
          "text": [
            "Total amount of Mama's said are 3\n",
            "Total amount of Papa's said are 3\n",
            "Longest line in the story is:\n",
            " Goldilocks was very tired by this time, so she went upstairs to the bedroom. She lay down in the first bed, but it\n",
            "\n",
            "The length of the longest line in the story is: 115 charachters\n",
            "Shortest line in the story is:\n",
            " THE END\n",
            "The length of the shortest line in the story is: 7 charachters\n"
          ]
        }
      ],
      "source": [
        "#fileobj = open(\"goldilocks.txt\",\"rt\")\n",
        "#close()\n",
        "total_mama = 0\n",
        "total_papa = 0\n",
        "long_line = \"\"\n",
        "short_line = \"\"\n",
        "with open(\"goldilocks.txt\") as fileobj:\n",
        "  for eachline in fileobj:\n",
        "    total_mama = total_mama + eachline.count(\"Mama\")\n",
        "    total_papa = total_papa + eachline.count(\"Papa\")\n",
        "  \n",
        "    if long_line == \"\" :\n",
        "      long_line = eachline\n",
        "      short_line = eachline\n",
        "    elif len(eachline) > len(long_line) :\n",
        "      long_line = eachline\n",
        "    else :\n",
        "      if len(eachline) < len(short_line) :\n",
        "       short_line = eachline\n",
        "         \n",
        "  print(\"Total amount of Mama's said are\" , total_mama )\n",
        "  print(\"Total amount of Papa's said are\" , total_papa )\n",
        "  print(\"Longest line in the story is:\\n\" , long_line)\n",
        "  print(\"The length of the longest line in the story is:\" , len(long_line)-1 , \"charachters\")\n",
        "  print(\"Shortest line in the story is:\\n\" , short_line)\n",
        "  print(\"The length of the shortest line in the story is:\" , len(short_line)-1 , \"charachters\")\n",
        "\n",
        "\n"
      ]
    },
    {
      "cell_type": "code",
      "source": [],
      "metadata": {
        "id": "r175IGPp6-HL"
      },
      "execution_count": 8,
      "outputs": []
    }
  ]
}