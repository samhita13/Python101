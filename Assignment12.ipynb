{
  "nbformat": 4,
  "nbformat_minor": 0,
  "metadata": {
    "colab": {
      "provenance": [],
      "authorship_tag": "ABX9TyMjj9aPnO6eb/A8h3zlKQUB",
      "include_colab_link": true
    },
    "kernelspec": {
      "name": "python3",
      "display_name": "Python 3"
    },
    "language_info": {
      "name": "python"
    }
  },
  "cells": [
    {
      "cell_type": "markdown",
      "metadata": {
        "id": "view-in-github",
        "colab_type": "text"
      },
      "source": [
        "<a href=\"https://colab.research.google.com/github/samhita13/Python101/blob/main/Assignment12.ipynb\" target=\"_parent\"><img src=\"https://colab.research.google.com/assets/colab-badge.svg\" alt=\"Open In Colab\"/></a>"
      ]
    },
    {
      "cell_type": "code",
      "execution_count": 3,
      "metadata": {
        "colab": {
          "base_uri": "https://localhost:8080/"
        },
        "id": "MWZSWUe67R7N",
        "outputId": "394d59c3-04b4-4b2c-9744-37d57b487dc7"
      },
      "outputs": [
        {
          "output_type": "stream",
          "name": "stdout",
          "text": [
            "Enter the phone number.you-are-food\n",
            "968-273-3663"
          ]
        }
      ],
      "source": [
        "### \n",
        "##Alphabetic Telephone number Translator\n",
        "## Taking Input phone number and converting it to lowercase\n",
        "phonestr= input(\"Enter the phone number.\").lower()\n",
        "##leters for each number of the phone number\n",
        "stringlist = ['','','abc','def', 'ghi', 'jkl', 'mno', 'pqrs', 'tuv', 'wqyz']\n",
        "## loop through each digit of phone number checking with letter \n",
        "## it is and mathching it with the correct number\n",
        "for x in phonestr:\n",
        "    button_number = 0\n",
        "    index =0\n",
        "    #check if current character matches the button number.\n",
        "    for button in stringlist:\n",
        "        if x in button:\n",
        "            button_number = index\n",
        "            break\n",
        "        index += 1\n",
        "    # if this 0, no button matched, keep the user entry the same.\n",
        "    # else we have a match with the letters, replace letter with \n",
        "    # number on the button.\n",
        "    if button_number == 0:\n",
        "        print(x,end='')\n",
        "    else:\n",
        "        print(button_number, end = '')\n",
        "    "
      ]
    }
  ]
}