{
  "nbformat": 4,
  "nbformat_minor": 0,
  "metadata": {
    "colab": {
      "provenance": [],
      "include_colab_link": true
    },
    "kernelspec": {
      "name": "python3",
      "display_name": "Python 3"
    },
    "language_info": {
      "name": "python"
    }
  },
  "cells": [
    {
      "cell_type": "markdown",
      "metadata": {
        "id": "view-in-github",
        "colab_type": "text"
      },
      "source": [
        "<a href=\"https://colab.research.google.com/github/samhita13/Python101/blob/main/ch9_programming_exercise_(1).ipynb\" target=\"_parent\"><img src=\"https://colab.research.google.com/assets/colab-badge.svg\" alt=\"Open In Colab\"/></a>"
      ]
    },
    {
      "cell_type": "markdown",
      "source": [
        "# Chapter 9: Sets and Dictionaries (Programming Exercises)"
      ],
      "metadata": {
        "id": "6IP5gn17Jlyz"
      }
    },
    {
      "cell_type": "code",
      "source": [
        "#@title 1.Course Information\n",
        "\n",
        "'''\n",
        "Create the following dictionaries:\n",
        "\n",
        "Course number - Key ; Room number - Value\n",
        "Course number - Key ; Instructor - Value\n",
        "Course number - Key ; Meeting time - Value\n",
        "\n",
        "Program should let user enter a course number, then display room number, instructor, meeting time.\n",
        "'''"
      ],
      "metadata": {
        "id": "PFWVWkPUHFJb"
      },
      "execution_count": null,
      "outputs": []
    },
    {
      "cell_type": "code",
      "source": [
        "#@title 2.Captial Quiz\n",
        "\n",
        "'''\n",
        "Create the following dictionary:\n",
        "\n",
        "U.S. state - Key ; State's capital - Valuw\n",
        "\n",
        "Then, program should randomly quiz user by displaying name of a state and asking user to enter the capital.\n",
        "Porgram should keep track of correct and incorrect responses.\n",
        "'''"
      ],
      "metadata": {
        "id": "VsJ1C1NqIaOR"
      },
      "execution_count": null,
      "outputs": []
    },
    {
      "cell_type": "code",
      "source": [
        "#@title 3.File Encryption and Decryption\n",
        "\n",
        "'''\n",
        "Write a program that uses a dictionary to assign a special symbol to each letter of the alphabet. \n",
        "Ex. A = %; B = &; C = *\n",
        "\n",
        "The program should read a text file and use the dictionary to write an encrypted version of the file.\n",
        "Write a second program that opens an encrypted file and displays its decrypted contents on the\n",
        "screen.\n",
        "'''"
      ],
      "metadata": {
        "id": "cCmOUIqUJOvP"
      },
      "execution_count": null,
      "outputs": []
    },
    {
      "cell_type": "code",
      "source": [
        "#@title 4.Unique Words\n",
        "\n",
        "'''\n",
        "Write a program that opens a specified text file then displays a list of all the unique words found\n",
        "in the file.\n",
        "\n",
        "Hint: Store each word as an element of a set.\n",
        "'''"
      ],
      "metadata": {
        "id": "vg0-6zPKCGhV"
      },
      "execution_count": null,
      "outputs": []
    },
    {
      "cell_type": "code",
      "source": [
        "#@title 5.Word Frequency\n",
        "\n",
        "'''\n",
        "Write a program that reads the contents of a text file. \n",
        "\n",
        "Create a dictionary where the keys = individual words found in the file and values = number of times each word appears. \n",
        "\n",
        "Program should display the frequency of each word in a new file.\n",
        "'''"
      ],
      "metadata": {
        "id": "ox1rmXuHCO-O"
      },
      "execution_count": null,
      "outputs": []
    },
    {
      "cell_type": "code",
      "source": [
        "from typing_extensions import NewType\n",
        "#@title 6.File Analysis\n",
        "\n",
        "'''\n",
        "Write a program that reads the contents of two text files and prints the following lists:\n",
        "\n",
        "1. All the unique words contained in both files.\n",
        "2. The words that appear in both files.\n",
        "3. The words that appear in the first file but not the second.\n",
        "4. The words that appear in the second file but not the first.\n",
        "5.The words that appear in either the first or second file, but not both.\n",
        "\n",
        "Hint: Use set operations to perform these analyses.\n",
        "'''\n",
        "try:\n",
        "  file1obj = open(\"/content/file1.txt\")\n",
        "  file2obj = open(\"/content/file2.txt\")\n",
        "  writeobj = open(\"combined_file.txt\", \"wt\") \n",
        "  set_1 = set()\n",
        "  set_2 = set()\n",
        "  # Read each line from the file\n",
        "  # split the line into words[list]\n",
        "  # remove \\n if present\n",
        "  # create a small set from the list\n",
        "  # add the small line list to the file set\n",
        "  # do the same for both files\n",
        "  for eachline in file1obj:\n",
        "     #split the date with -\n",
        "     linelist=eachline.split(\" \")\n",
        "     if \"\\n\" in linelist:\n",
        "        linelist.remove(\"\\n\")\n",
        "     lineset = set(linelist)\n",
        "     set_1.update(lineset)\n",
        "# we can make a function to avoid doing again   \n",
        "  for eachline in file2obj:\n",
        "     #split the date with -\n",
        "     linelist=eachline.split(\" \")\n",
        "     if \"\\n\" in linelist:\n",
        "        linelist.remove(\"\\n\")\n",
        "     lineset = set(linelist)\n",
        "     set_2.update(lineset)\n",
        "  print(set_1)\n",
        "  print(set_2)\n",
        "  inter_set = set_1.intersection(set_2)\n",
        "  union_set = set_1.union(set_2)\n",
        "  diffrence_set = set_1.difference(set_2)\n",
        "  diffrence_set2 = set_2.difference(set_1)\n",
        "  symetric_set = set_1.symmetric_difference(set_2)\n",
        "  print(\"All the unique words contained in both files are \\n\", inter_set)\n",
        "  print(\"The words that appear in both files are \\n\", union_set)\n",
        "  print(\"The words that appear in the first file but not the second are \\n\", diffrence_set)\n",
        "  print(\"The words that appear in the second file but not the first are \\n\", diffrence_set2)\n",
        "  print(\"The words that appear in either the first or second file, but not both are \\n\", symetric_set)\n",
        "  for item in union_set:\n",
        "    writeobj.write(item+\"\\n\")\n",
        "  file1obj.close()\n",
        "  file2obj.close()\n",
        "  writeobj.close()\n",
        "except FileNotFoundError:\n",
        "  print('Error: please check if file1.txt, file2.txt is located in current directory')  "
      ],
      "metadata": {
        "id": "kmOINiwuC2TJ",
        "colab": {
          "base_uri": "https://localhost:8080/"
        },
        "outputId": "00a8a7f3-a5f3-41da-8b38-50b2d9915ae3"
      },
      "execution_count": 33,
      "outputs": [
        {
          "output_type": "stream",
          "name": "stdout",
          "text": [
            "{'dog', 'fox', 'boy', 'cat', 'ant', 'elephant', 'fish'}\n",
            "{'fox', 'boy', 'zebra', 'cat', 'ant', 'newt', 'elephant'}\n",
            "All the unique words contained in both files are \n",
            " {'boy', 'elephant', 'cat', 'ant', 'fox'}\n",
            "The words that appear in both files are \n",
            " {'cat', 'boy', 'elephant', 'fish', 'zebra', 'dog', 'ant', 'newt', 'fox'}\n",
            "The words that appear in the first file but not the second are \n",
            " {'dog', 'fish'}\n",
            "The words that appear in the second file but not the first are \n",
            " {'zebra', 'newt'}\n",
            "The words that appear in either the first or second file, but not both are \n",
            " {'dog', 'zebra', 'newt', 'fish'}\n"
          ]
        }
      ]
    },
    {
      "cell_type": "code",
      "source": [
        "#@title 7.World Series Winner\n",
        "\n",
        "'''\n",
        "Download WorldSeriesWinners.txt, which contains a chronological list of the World Series’ winning teams from 1903-2009.\n",
        "\n",
        "Reads this file and create a dictionary where the keys = names of teams, and values = number of times the team has won.\n",
        "\n",
        "The program should also create a dictionary in which the keys = years, and values = name of the team that won that year.\n",
        "\n",
        "The program should prompt the user for a year in the range of 1903 through 2009. \n",
        "\n",
        "It should then display the name of the team that won the World Series that year, and the number of times\n",
        "that team has won the World Series.\n",
        "'''"
      ],
      "metadata": {
        "id": "PbzGK47PDNH1"
      },
      "execution_count": null,
      "outputs": []
    },
    {
      "cell_type": "code",
      "source": [
        "#@title 8.Name and Email Addresses\n",
        "\n",
        "'''\n",
        "Write a program that keeps names and email addresses in a dictionary as key-value pairs. \n",
        "\n",
        "The program should display a menu that lets the user look up a person’s email address, add a new\n",
        "name and email address, change an existing email address, and delete an existing name and\n",
        "email address. \n",
        "\n",
        "The program should pickle the dictionary and save it to a file when the user exits the program. \n",
        "Each time the program starts, it should retrieve the dictionary from the file and unpickle it.\n",
        "'''"
      ],
      "metadata": {
        "id": "N8a4OoNwF5xK"
      },
      "execution_count": null,
      "outputs": []
    },
    {
      "cell_type": "code",
      "source": [
        "#@title 9.Blackjack Simulation\n",
        "\n",
        "'''\n",
        "Enhance the card_dealer.py program so it simulates a simplified version of the game of Blackjack between two players.\n",
        "\n",
        "The cards have the following values:\n",
        " - Numeric cards are assigned the value they have printed on them. \n",
        " - Jacks, queens, and kings are valued at 10.\n",
        " - Aces are valued at 1 or 11, depending on the player’s choice.\n",
        "\n",
        "The program should deal cards to each player until one player’s hand is worth more than 21 points. \n",
        "When that happens, the other player is the winner. (It is possible that both players’ hands\n",
        "will simultaneously exceed 21 points, in which case neither player wins.) \n",
        "\n",
        "The program should repeat until all the cards have been dealt from the deck.\n",
        "\n",
        "If a player is dealt an ace, the program should decide the value of the card according to the\n",
        "following rule: The ace will be worth 11 points, unless that makes the player’s hand exceed 21\n",
        "points. In that case, the ace will be worth 1 point.\n",
        "'''"
      ],
      "metadata": {
        "id": "6KhJYGl-GJ-H"
      },
      "execution_count": null,
      "outputs": []
    },
    {
      "cell_type": "code",
      "source": [
        "#@title 10.Word Index\n",
        "\n",
        "'''\n",
        "Write a program that reads the contents of a text file. The program should create a dictionary where:\n",
        "  Key: Individual words found in the file.\n",
        "  Values: A list that contains the line numbers in the file where the word (the key) is found.\n",
        "\n",
        "Once the dictionary is built, the program should create another text file, known as a word_index.txt,\n",
        "listing the contents of the dictionary. \n",
        "\n",
        "The word_index file should contain an alphabetical listing of the words that are stored as keys in the dictionary, \n",
        "along with the line numbers where the words appear in the original file. \n",
        "'''"
      ],
      "metadata": {
        "id": "4xfcPvLyGkUD"
      },
      "execution_count": null,
      "outputs": []
    }
  ]
}