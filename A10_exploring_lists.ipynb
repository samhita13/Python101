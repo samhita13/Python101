{
  "nbformat": 4,
  "nbformat_minor": 0,
  "metadata": {
    "colab": {
      "provenance": [],
      "toc_visible": true,
      "include_colab_link": true
    },
    "kernelspec": {
      "name": "python3",
      "display_name": "Python 3"
    },
    "language_info": {
      "name": "python"
    }
  },
  "cells": [
    {
      "cell_type": "markdown",
      "metadata": {
        "id": "view-in-github",
        "colab_type": "text"
      },
      "source": [
        "<a href=\"https://colab.research.google.com/github/samhita13/Python101/blob/main/A10_exploring_lists.ipynb\" target=\"_parent\"><img src=\"https://colab.research.google.com/assets/colab-badge.svg\" alt=\"Open In Colab\"/></a>"
      ]
    },
    {
      "cell_type": "markdown",
      "source": [
        "# Lists\n"
      ],
      "metadata": {
        "id": "HpIJY9lvgjMV"
      }
    },
    {
      "cell_type": "markdown",
      "source": [
        "* https://www.w3schools.com/python/python_ref_list.asp  (Python List Methods)\n",
        "* https://www.w3schools.com/python/python_ref_functions.asp (Python Built-in Functions)"
      ],
      "metadata": {
        "id": "imH1nSNBUuG_"
      }
    },
    {
      "cell_type": "code",
      "source": [
        "#@title Lists: An Introduction\n",
        "\n",
        "Data Type\n",
        "List Type"
      ],
      "metadata": {
        "id": "iE_KtgxUn4at"
      },
      "execution_count": null,
      "outputs": []
    },
    {
      "cell_type": "code",
      "source": [
        "#@title 1.Creating an empty list\n",
        "fruits=[]\n",
        "print(fruits) "
      ],
      "metadata": {
        "id": "4GnRakGpUz8V",
        "colab": {
          "base_uri": "https://localhost:8080/"
        },
        "outputId": "6e75a45e-d214-4436-b186-722390f15069"
      },
      "execution_count": 2,
      "outputs": [
        {
          "output_type": "stream",
          "name": "stdout",
          "text": [
            "[]\n"
          ]
        }
      ]
    },
    {
      "cell_type": "code",
      "source": [
        "#@title 2.Creating a list with some elements\n",
        "fruits=[\"apple\",\"orange\", \"banana\",\"grapes\",\"stawberry\",\"watermelon\"]\n",
        "print(fruits) "
      ],
      "metadata": {
        "id": "uCm9yPLDU0O0",
        "colab": {
          "base_uri": "https://localhost:8080/"
        },
        "outputId": "4d96fe74-6d8f-4e74-a5e5-161ee1be9d85"
      },
      "execution_count": 3,
      "outputs": [
        {
          "output_type": "stream",
          "name": "stdout",
          "text": [
            "['apple', 'orange', 'banana', 'grapes', 'stawberry', 'watermelon']\n"
          ]
        }
      ]
    },
    {
      "cell_type": "code",
      "source": [
        "#@title 3.Adding elements at the end\n",
        "fruits=[\"apple\",\"orange\", \"banana\",\"grapes\",\"stawberry\",\"watermelon\"]\n",
        "tropical_fruits=[\"pineapple\",\"pomegranet\",\"guava\"]\n",
        "fruits.extend(tropical_fruits)\n",
        "print(fruits) "
      ],
      "metadata": {
        "id": "rEpmqm7MU0Si",
        "colab": {
          "base_uri": "https://localhost:8080/"
        },
        "outputId": "b25141d2-c15d-4b37-f33e-af015c45d694"
      },
      "execution_count": 8,
      "outputs": [
        {
          "output_type": "stream",
          "name": "stdout",
          "text": [
            "['apple', 'orange', 'banana', 'grapes', 'stawberry', 'watermelon', 'pineapple', 'pomegranet', 'guava']\n"
          ]
        }
      ]
    },
    {
      "cell_type": "code",
      "source": [
        "#@title 4.Accessing an element (positive index)\n",
        "# also known as \"Reading an element\"\n",
        "# also known as \"Setting an element\"\n",
        "fruits=[\"apple\",\"orange\", \"banana\",\"grapes\",\"stawberry\",\"watermelon\"]\n",
        "print(fruits[3])\n"
      ],
      "metadata": {
        "id": "AMTpZsLMU0Vr",
        "colab": {
          "base_uri": "https://localhost:8080/"
        },
        "outputId": "dc6ac568-171b-4b28-df46-cb5d8cbd815c"
      },
      "execution_count": 10,
      "outputs": [
        {
          "output_type": "stream",
          "name": "stdout",
          "text": [
            "grapes\n"
          ]
        }
      ]
    },
    {
      "cell_type": "code",
      "source": [
        "#@title 5.Accessing an element (through Negative Indexing)\n",
        "# also known as \"Reading an element\"\n",
        "# also known as \"Setting an element\"\n",
        "fruits=[\"apple\",\"orange\", \"banana\",\"grapes\",\"stawberry\",\"watermelon\"]\n",
        "print(fruits[-2])\n"
      ],
      "metadata": {
        "id": "VWaPKymnXdtx",
        "colab": {
          "base_uri": "https://localhost:8080/"
        },
        "outputId": "1a9bd6b8-1719-402e-962b-7efec730f0c8"
      },
      "execution_count": 11,
      "outputs": [
        {
          "output_type": "stream",
          "name": "stdout",
          "text": [
            "stawberry\n"
          ]
        }
      ]
    },
    {
      "cell_type": "code",
      "source": [
        "#@title 6.Adding an element at the front of the list\n",
        "fruits=[\"apple\",\"orange\", \"banana\",\"grapes\",\"stawberry\",\"watermelon\"]\n",
        "fruits.insert(0,\"blueberry\")\n",
        "print(fruits)\n"
      ],
      "metadata": {
        "id": "dSKr5_20U0YS",
        "colab": {
          "base_uri": "https://localhost:8080/"
        },
        "outputId": "65c54293-0e30-42c4-e918-bbde4b38ee1f"
      },
      "execution_count": 13,
      "outputs": [
        {
          "output_type": "stream",
          "name": "stdout",
          "text": [
            "['blueberry', 'apple', 'orange', 'banana', 'grapes', 'stawberry', 'watermelon']\n"
          ]
        }
      ]
    },
    {
      "cell_type": "code",
      "source": [
        "#@title 7.Adding an element anywhere (at a specific index) \n",
        "fruits=[\"apple\",\"orange\", \"banana\",\"grapes\",\"stawberry\",\"watermelon\"]\n",
        "fruits.insert(3,\"blueberry\")\n",
        "print(fruits)\n"
      ],
      "metadata": {
        "id": "jvMJf2-2U0bM",
        "colab": {
          "base_uri": "https://localhost:8080/"
        },
        "outputId": "83eaa8e9-6181-4486-9631-707133cc1656"
      },
      "execution_count": 14,
      "outputs": [
        {
          "output_type": "stream",
          "name": "stdout",
          "text": [
            "['apple', 'orange', 'banana', 'blueberry', 'grapes', 'stawberry', 'watermelon']\n"
          ]
        }
      ]
    },
    {
      "cell_type": "code",
      "source": [
        "#@title 8.Updating (or Replacing) an element\n",
        "fruits=[\"apple\",\"orange\", \"banana\",\"grapes\",\"stawberry\",\"watermelon\"]\n",
        "fruits[1] = \"blueberry\"\n",
        "print(fruits)\n"
      ],
      "metadata": {
        "id": "DUG9xlraaTlO",
        "colab": {
          "base_uri": "https://localhost:8080/"
        },
        "outputId": "0e4d0a3c-1692-4617-aed3-ca4651de29df"
      },
      "execution_count": 15,
      "outputs": [
        {
          "output_type": "stream",
          "name": "stdout",
          "text": [
            "['apple', 'blueberry', 'banana', 'grapes', 'stawberry', 'watermelon']\n"
          ]
        }
      ]
    },
    {
      "cell_type": "code",
      "source": [
        "#@title 9.Looping through the list (just for READING)\n",
        "fruits=[\"apple\",\"orange\", \"banana\",\"grapes\",\"stawberry\",\"watermelon\"]\n",
        "print(fruits)\n",
        "for x in fruits:\n",
        "  print(x)\n"
      ],
      "metadata": {
        "id": "F6P3NNhFU0j8",
        "colab": {
          "base_uri": "https://localhost:8080/"
        },
        "outputId": "63d6bfd3-dab0-4a84-bd60-fc5f3354a82e"
      },
      "execution_count": 19,
      "outputs": [
        {
          "output_type": "stream",
          "name": "stdout",
          "text": [
            "['apple', 'orange', 'banana', 'grapes', 'stawberry', 'watermelon']\n",
            "apple\n",
            "orange\n",
            "banana\n",
            "grapes\n",
            "stawberry\n",
            "watermelon\n"
          ]
        }
      ]
    },
    {
      "cell_type": "code",
      "source": [
        "#@title 10.Looping through the list (for UPDATING)\n",
        "fruits=[\"apple\",\"orange\", \"banana\",\"grapes\",\"stawberry\",\"watermelon\"]\n",
        "print(fruits)\n",
        "count = len(fruits)\n",
        "for x in range(count):\n",
        "  fruits[x] = \"new-\"+fruits[x]\n",
        "print(fruits)"
      ],
      "metadata": {
        "id": "QFJmGzYOU0nG",
        "colab": {
          "base_uri": "https://localhost:8080/"
        },
        "outputId": "c9729a0b-0d87-4680-d7c3-d067ace8ed62"
      },
      "execution_count": 1,
      "outputs": [
        {
          "output_type": "stream",
          "name": "stdout",
          "text": [
            "['apple', 'orange', 'banana', 'grapes', 'stawberry', 'watermelon']\n",
            "['new-apple', 'new-orange', 'new-banana', 'new-grapes', 'new-stawberry', 'new-watermelon']\n"
          ]
        }
      ]
    },
    {
      "cell_type": "code",
      "source": [
        "#@title 11.Common Operations: Find the length of the list\n",
        "# Find the number of elements in the list"
      ],
      "metadata": {
        "id": "_OiuJHIeU0p6"
      },
      "execution_count": null,
      "outputs": []
    },
    {
      "cell_type": "code",
      "source": [
        "#@title 12.Common Operations: Find the maximum in the list"
      ],
      "metadata": {
        "id": "IhGhO_XxU0tB"
      },
      "execution_count": null,
      "outputs": []
    },
    {
      "cell_type": "code",
      "source": [
        "#@title 13.Common Operations: Find the minimum in the list"
      ],
      "metadata": {
        "id": "D4vmqhUHYaVC"
      },
      "execution_count": null,
      "outputs": []
    },
    {
      "cell_type": "code",
      "source": [
        "#@title 14.Common Operations: Find the sum of elements in the list"
      ],
      "metadata": {
        "id": "ULNy2XkGYd5g"
      },
      "execution_count": null,
      "outputs": []
    },
    {
      "cell_type": "code",
      "source": [
        "#@title 14.Removing an element by value\n"
      ],
      "metadata": {
        "id": "8UfCeQSpYwFB"
      },
      "execution_count": null,
      "outputs": []
    },
    {
      "cell_type": "code",
      "source": [
        "#@title 15.Removing the last element in the list\n"
      ],
      "metadata": {
        "id": "8pLgwYe0YwOY"
      },
      "execution_count": null,
      "outputs": []
    },
    {
      "cell_type": "code",
      "source": [
        "#@title 16.Removing an element at a given index\n"
      ],
      "metadata": {
        "id": "2jpc-7ppYwb_"
      },
      "execution_count": null,
      "outputs": []
    },
    {
      "cell_type": "code",
      "source": [
        "#@title 17.Extending a list\n",
        "#(Adding several elements to one list)\n"
      ],
      "metadata": {
        "id": "f9CutvMNYwn6"
      },
      "execution_count": null,
      "outputs": []
    },
    {
      "cell_type": "code",
      "source": [
        "#@title 18.Search for an element. What is the index?\n"
      ],
      "metadata": {
        "id": "S7JBtxoufmw0"
      },
      "execution_count": null,
      "outputs": []
    },
    {
      "cell_type": "code",
      "source": [
        "#@title 19.Count the number of times an element is appearing\n",
        "\n"
      ],
      "metadata": {
        "id": "xtYWNnRUfykZ"
      },
      "execution_count": null,
      "outputs": []
    },
    {
      "cell_type": "code",
      "execution_count": null,
      "metadata": {
        "colab": {
          "base_uri": "https://localhost:8080/"
        },
        "id": "HzdJE7DjkZ7-",
        "outputId": "a130b59c-5076-4038-bd11-b8989a6246f8"
      },
      "outputs": [
        {
          "output_type": "stream",
          "name": "stdout",
          "text": [
            "54.3 ns ± 5.4 ns per loop (mean ± std. dev. of 7 runs, 10000000 loops each)\n"
          ]
        }
      ],
      "source": [
        "#@title 20.Checking for Membership (in)"
      ]
    },
    {
      "cell_type": "code",
      "source": [
        "#@title 21.Checking for Membership (not in)"
      ],
      "metadata": {
        "id": "0jlu0amZfUYv"
      },
      "execution_count": null,
      "outputs": []
    },
    {
      "cell_type": "code",
      "source": [
        "#@title 22.Reverse a list\n"
      ],
      "metadata": {
        "id": "4ss-JZlugMdZ"
      },
      "execution_count": null,
      "outputs": []
    },
    {
      "cell_type": "code",
      "source": [
        "#@title 23.Sort a list\n"
      ],
      "metadata": {
        "id": "XNEHDoaFgop0"
      },
      "execution_count": null,
      "outputs": []
    },
    {
      "cell_type": "code",
      "source": [
        "#@title 24.Copy a list (Caution: Don't reassign)\n"
      ],
      "metadata": {
        "id": "OKubdzAkhAzu"
      },
      "execution_count": null,
      "outputs": []
    },
    {
      "cell_type": "code",
      "source": [
        "#@title 25.Clear (Empty) a list\n",
        "#Delete all the elements in the list\n"
      ],
      "metadata": {
        "id": "EtzP3vuKgt8T"
      },
      "execution_count": null,
      "outputs": []
    },
    {
      "cell_type": "code",
      "source": [
        "#@title 26.Delete the entire list"
      ],
      "metadata": {
        "id": "Kio7904Bh1uk"
      },
      "execution_count": null,
      "outputs": []
    },
    {
      "cell_type": "code",
      "source": [
        "#@title 27.Cool Operation: You can add lists"
      ],
      "metadata": {
        "id": "xrsUOIOmiGT7"
      },
      "execution_count": null,
      "outputs": []
    },
    {
      "cell_type": "code",
      "source": [
        "#@title 28.Cool Operation: You can multiply/repeat a list"
      ],
      "metadata": {
        "id": "daHyLToliKFa"
      },
      "execution_count": null,
      "outputs": []
    },
    {
      "cell_type": "code",
      "source": [
        "#@title 29.Cool Operation: You can convert a range to a list"
      ],
      "metadata": {
        "id": "72Cxp55ziPoa"
      },
      "execution_count": null,
      "outputs": []
    },
    {
      "cell_type": "code",
      "source": [
        "#@title 30.Common Operations: Find the length (Using Built-in Function)"
      ],
      "metadata": {
        "id": "ubwosLZvYiPv"
      },
      "execution_count": null,
      "outputs": []
    },
    {
      "cell_type": "code",
      "source": [
        "#@title 31.Common Operations: Find the maximum in the list (Using Built-in Function)"
      ],
      "metadata": {
        "id": "bsYWoh8viya7"
      },
      "execution_count": null,
      "outputs": []
    },
    {
      "cell_type": "code",
      "source": [
        "#@title 32.Common Operations: Find the minimum in the list (Using Built-in Function)"
      ],
      "metadata": {
        "id": "_dXOQIhsi88b"
      },
      "execution_count": null,
      "outputs": []
    },
    {
      "cell_type": "code",
      "source": [
        "#@title 33.Common Operations: Find the sum of elements in the list (Using Built-in Function)"
      ],
      "metadata": {
        "id": "EDcj1HkdjIXD"
      },
      "execution_count": null,
      "outputs": []
    },
    {
      "cell_type": "code",
      "source": [
        "#@title 34.Common Operations: Find the average of elements in the list (Using Built-in Function)"
      ],
      "metadata": {
        "id": "rQwWmGsnjMG0"
      },
      "execution_count": null,
      "outputs": []
    },
    {
      "cell_type": "code",
      "source": [
        "#@title 35.Common Operations: Find whether the list has any duplicate elements"
      ],
      "metadata": {
        "id": "YuaeC0FVjU81"
      },
      "execution_count": null,
      "outputs": []
    },
    {
      "cell_type": "code",
      "source": [
        "#@title 36.Common Operations: Multiply / Divide / Do something to every element in the list"
      ],
      "metadata": {
        "id": "6ENoMN_Pjr1t"
      },
      "execution_count": null,
      "outputs": []
    },
    {
      "cell_type": "code",
      "source": [
        "#@title 37.List Unpacking (N to <N mapping)"
      ],
      "metadata": {
        "id": "4UgT1N2MkFY6"
      },
      "execution_count": null,
      "outputs": []
    },
    {
      "cell_type": "code",
      "source": [
        "#@title 38.List Unpacking (N to <N mapping)"
      ],
      "metadata": {
        "id": "oHnK7xtkkKoM"
      },
      "execution_count": null,
      "outputs": []
    },
    {
      "cell_type": "code",
      "source": [
        "#@title 39.Printing a List (*)"
      ],
      "metadata": {
        "id": "5MXjd3xIkieL"
      },
      "execution_count": null,
      "outputs": []
    },
    {
      "cell_type": "code",
      "source": [
        "#@title 40.List Slicing"
      ],
      "metadata": {
        "id": "05fSVpKRkoc8"
      },
      "execution_count": null,
      "outputs": []
    },
    {
      "cell_type": "code",
      "source": [
        "#@title 41.List Comprehension"
      ],
      "metadata": {
        "id": "C9igc0NqkuTz"
      },
      "execution_count": null,
      "outputs": []
    },
    {
      "cell_type": "code",
      "source": [
        "#@title 42.Two Dimenstional Lists  (List of Lists)"
      ],
      "metadata": {
        "id": "Z4lXBQV0knD_"
      },
      "execution_count": null,
      "outputs": []
    },
    {
      "cell_type": "code",
      "source": [
        "#@title 43.Zipping two or three lists"
      ],
      "metadata": {
        "id": "OtnBbCUasGXV"
      },
      "execution_count": null,
      "outputs": []
    },
    {
      "cell_type": "code",
      "source": [
        "#@title 44.Applying a map funciton on the lists"
      ],
      "metadata": {
        "id": "dPqwLI6RsLxM"
      },
      "execution_count": null,
      "outputs": []
    }
  ]
}