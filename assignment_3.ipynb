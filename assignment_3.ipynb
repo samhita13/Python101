{
  "nbformat": 4,
  "nbformat_minor": 0,
  "metadata": {
    "colab": {
      "provenance": [],
      "authorship_tag": "ABX9TyPBE9mB/wlOM69QRaD5fdPY",
      "include_colab_link": true
    },
    "kernelspec": {
      "name": "python3",
      "display_name": "Python 3"
    },
    "language_info": {
      "name": "python"
    }
  },
  "cells": [
    {
      "cell_type": "markdown",
      "metadata": {
        "id": "view-in-github",
        "colab_type": "text"
      },
      "source": [
        "<a href=\"https://colab.research.google.com/github/samhita13/Python101/blob/main/assignment_3.ipynb\" target=\"_parent\"><img src=\"https://colab.research.google.com/assets/colab-badge.svg\" alt=\"Open In Colab\"/></a>"
      ]
    },
    {
      "cell_type": "code",
      "execution_count": null,
      "metadata": {
        "colab": {
          "base_uri": "https://localhost:8080/"
        },
        "id": "_dvP_zdb8w-F",
        "outputId": "c5c81def-bf25-4c9f-c689-1b165a131ffd"
      },
      "outputs": [
        {
          "output_type": "stream",
          "name": "stdout",
          "text": [
            "Dollar Counting Game\n",
            "Enter the amount of pennies.1\n",
            "Enter the amount of nickles2\n",
            "Enter the amount of dimes.3\n",
            "Enter the amount of quarters4\n",
            " Total Value is 141\n",
            "I'm sorry, but you have lost. You have entered more than 1 dollar.\n"
          ]
        }
      ],
      "source": [
        "########This is a game where the goal is to put the corect number of coins\n",
        "##so that it equals one dollar######\n",
        "###############################\n",
        "print(\"Dollar Counting Game\")\n",
        "pennies=int(input(\"Enter the amount of pennies.\"))\n",
        "nickels=int(input(\"Enter the amount of nickles\"))\n",
        "nickels = nickels*5\n",
        "dimes=int(input(\"Enter the amount of dimes.\"))\n",
        "dimes = dimes *10\n",
        "quarters=int(input(\"Enter the amount of quarters\"))\n",
        "quarters = quarters *25\n",
        "TotalValue = pennies + nickels + dimes + quarters\n",
        "print( \" Total Value is \"+ str(TotalValue))\n",
        "if TotalValue == 100 :\n",
        "  print(\"Congratulations! Your a winner winer chicken dinner!\")\n",
        "elif TotalValue < 100 :\n",
        "  print(\"I'm sorry, but you have lost. You have entered less than 1 dollar.\")\n",
        "else :\n",
        "  print(\"I'm sorry, but you have lost. You have entered more than 1 dollar.\")\n"
      ]
    },
    {
      "cell_type": "code",
      "source": [
        "#######Book Club Points###################\n",
        "###customer earns o points for 0 books\n",
        "###customer earns 5 points for 2 books\n",
        "###customer earns 15 points for 4 books\n",
        "###customer earns 30 points for 6 books\n",
        "###customer earns 60 points for 8 books\n",
        "#########################################\n",
        "print(\"Book Club Points\")\n",
        "books=int(input(\"How many books have you purchased this month?\"))\n",
        "if books >= 8:\n",
        "  print(\"You have earned 60 points!\")\n",
        "elif books>= 6:\n",
        "  print(\"You have earned 30 points!\")\n",
        "elif books>= 4:\n",
        "  print(\"You have earned 15 points!\")\n",
        "elif books>= 2:\n",
        "  print(\"You have earned 5 points!\")\n",
        "else:\n",
        "  print(\"You have earned 0 points!\")\n"
      ],
      "metadata": {
        "colab": {
          "base_uri": "https://localhost:8080/"
        },
        "id": "TkfTjunWFFws",
        "outputId": "0e303d4f-85e2-420e-fc81-2c0bbb8e4058"
      },
      "execution_count": null,
      "outputs": [
        {
          "output_type": "stream",
          "name": "stdout",
          "text": [
            "Book Club Points\n",
            "How many books have you purchased this month?100\n",
            "You have earned 60 points!\n"
          ]
        }
      ]
    }
  ]
}