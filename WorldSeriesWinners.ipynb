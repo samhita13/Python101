{
  "nbformat": 4,
  "nbformat_minor": 0,
  "metadata": {
    "colab": {
      "provenance": [],
      "authorship_tag": "ABX9TyNEXhmj08Vt3zwrOVASnznC",
      "include_colab_link": true
    },
    "kernelspec": {
      "name": "python3",
      "display_name": "Python 3"
    },
    "language_info": {
      "name": "python"
    }
  },
  "cells": [
    {
      "cell_type": "markdown",
      "metadata": {
        "id": "view-in-github",
        "colab_type": "text"
      },
      "source": [
        "<a href=\"https://colab.research.google.com/github/samhita13/Python101/blob/main/WorldSeriesWinners.ipynb\" target=\"_parent\"><img src=\"https://colab.research.google.com/assets/colab-badge.svg\" alt=\"Open In Colab\"/></a>"
      ]
    },
    {
      "cell_type": "code",
      "execution_count": 16,
      "metadata": {
        "id": "sL_GuNL28m68",
        "colab": {
          "base_uri": "https://localhost:8080/"
        },
        "outputId": "fb298c50-2752-4733-8194-92a32a5ae3e0"
      },
      "outputs": [
        {
          "output_type": "stream",
          "name": "stdout",
          "text": [
            "Which baseball team's winning stat would you like to check?Twins\n",
            "Total times  Twins has won is  2\n"
          ]
        }
      ],
      "source": [
        " total_team_amount = 0\n",
        " baseball_team =  input(\"Which baseball team's winning stat would you like to check?\")\n",
        " try:\n",
        "    with open(\"WorldSeriesWinners.txt\" , \"rt\")  as fileobj:\n",
        "      for eachline in fileobj:\n",
        "        #total_team_amount = total_team_amount + eachline.count(baseball_team)\n",
        "        if baseball_team.upper()  in eachline.upper():\n",
        "          total_team_amount = total_team_amount + 1          \n",
        "    print(\"Total times \", baseball_team, \"has won is \",total_team_amount)\n",
        "except:\n",
        "  print(\"WorldSeriesWinners file not found\")    \n",
        "\n",
        "\n",
        " \n"
      ]
    }
  ]
}